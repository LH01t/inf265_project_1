{
 "cells": [
  {
   "cell_type": "code",
   "execution_count": 1,
   "metadata": {},
   "outputs": [],
   "source": [
    "import torch\n",
    "from torch import nn, optim\n",
    "import torch.nn.functional as F\n",
    "from torchvision import datasets, transforms\n",
    "from torch.utils.data import random_split\n",
    "from datetime import datetime\n",
    "import numpy as np\n",
    "import itertools\n",
    "import matplotlib.pyplot as plt\n",
    "import random"
   ]
  },
  {
   "cell_type": "markdown",
   "metadata": {},
   "source": [
    "# Getting the same results with train and train_manual_update\n",
    "- Write torch.manual_seed(42) at the beginning of your notebook.\n",
    "- Write torch.set_default_dtype(torch.double) at the beginning of your notebook to alleviate precision errors"
   ]
  },
  {
   "cell_type": "code",
   "execution_count": 2,
   "metadata": {},
   "outputs": [],
   "source": [
    "torch.manual_seed(42)\n",
    "torch.set_default_dtype(torch.double)\n",
    "\n",
    "device = (torch.device('cuda') if torch.cuda.is_available()\n",
    "          else torch.device('cpu'))"
   ]
  },
  {
   "cell_type": "markdown",
   "metadata": {},
   "source": [
    "# Tasks\n",
    "Load, analyse and preprocess the CIFAR-10 dataset. Split it into 3\n",
    "datasets: training, validation and test. Take a subset of these datasets\n",
    "by keeping only 2 labels: cat and car"
   ]
  },
  {
   "cell_type": "code",
   "execution_count": 3,
   "metadata": {},
   "outputs": [],
   "source": [
    "def load_cifar(train_val_split=0.9, data_path='../data/', preprocessor=None):\n",
    "    \"\"\"\n",
    "    Loads the dataset and split into train, test and val \\n\n",
    "    Keeps only the label \"cat\" and \"car\"\n",
    "    \"\"\"\n",
    "\n",
    "    # transformer to resize images to 16x16 pixels\n",
    "    if preprocessor is None:\n",
    "        preprocessor = transforms.Compose([\n",
    "            transforms.Resize(16),\n",
    "            transforms.ToTensor()\n",
    "            ])\n",
    "    \n",
    "    # load datasets\n",
    "    train_val_data = datasets.CIFAR10(data_path, train=True, download=True, transform=preprocessor)\n",
    "    test_data = datasets.CIFAR10(data_path, train=False, download=True, transform=preprocessor)\n",
    "    \n",
    "    # sizes of train and validation data\n",
    "    train_size = int(train_val_split * len(train_val_data))\n",
    "    val_size = len(train_val_data) - train_size\n",
    "\n",
    "    # split train_val_data into train and validation sets\n",
    "    train_data, val_data = random_split(train_val_data, [train_size, val_size])\n",
    "\n",
    "    # create subsets with only cat (0) and car (1)\n",
    "    label_map = {3: 0, 1: 1} \n",
    "\n",
    "    train = [(img, label_map[label]) for img, label in train_data if label in [1,3]]\n",
    "    val = [(img, label_map[label]) for img, label in val_data if label in [1,3]]\n",
    "    test = [(img, label_map[label]) for img, label in test_data if label in [1,3]]\n",
    "\n",
    "    return train, val, test\n",
    "\n",
    "\n",
    "def compute_accuracy(model, loader):\n",
    "    \"\"\"\n",
    "    Computes the accuracy of the given model on the given dataloader\n",
    "    \"\"\"\n",
    "    # set the model to evaluation mode\n",
    "    model.eval()\n",
    "    correct = 0\n",
    "    total = 0\n",
    "\n",
    "    # disable gradient tracking\n",
    "    with torch.no_grad():\n",
    "        for images, labels in loader:\n",
    "            # forward pass\n",
    "            outputs = model(images)\n",
    "            predicted = torch.argmax(outputs, dim=1)\n",
    "            total += labels.size(0)\n",
    "            # compare predicted with labels\n",
    "            correct += torch.eq(predicted, labels).sum().item()\n",
    "\n",
    "    # calculate accuracy\n",
    "    accuracy = correct / total * 100.0\n",
    "    return accuracy\n"
   ]
  },
  {
   "cell_type": "markdown",
   "metadata": {},
   "source": [
    "## Data analysis"
   ]
  },
  {
   "cell_type": "markdown",
   "metadata": {},
   "source": [
    "### Load dataset, create loss function and dataloaders"
   ]
  },
  {
   "cell_type": "code",
   "execution_count": 4,
   "metadata": {},
   "outputs": [
    {
     "name": "stdout",
     "output_type": "stream",
     "text": [
      "Files already downloaded and verified\n",
      "Files already downloaded and verified\n"
     ]
    }
   ],
   "source": [
    "# load datasets\n",
    "data_train, data_val, data_test = load_cifar()\n",
    "\n",
    "# loss function\n",
    "loss_fn = nn.CrossEntropyLoss()\n",
    "\n",
    "# create dataloaders using train, val and test sets\n",
    "train_loader = torch.utils.data.DataLoader(data_train, batch_size=64, shuffle=False)\n",
    "val_loader = torch.utils.data.DataLoader(data_val, batch_size=64, shuffle=False)\n",
    "test_loader = torch.utils.data.DataLoader(data_test, batch_size=64, shuffle=False)\n"
   ]
  },
  {
   "cell_type": "markdown",
   "metadata": {},
   "source": [
    "### Visualize images and distribution of the training data"
   ]
  },
  {
   "cell_type": "code",
   "execution_count": 5,
   "metadata": {},
   "outputs": [],
   "source": [
    "def data_distribution(data, label_names=None):\n",
    "    \"\"\"\n",
    "    Plots the distribution of the given data across the labels\n",
    "    \"\"\"\n",
    "    # Extract labels from the dataset\n",
    "    labels = [label for _, label in data]\n",
    "    \n",
    "    # Calculate distribution using numpy\n",
    "    unique_labels, counts = np.unique(labels, return_counts=True)\n",
    "    distribution = dict(zip(unique_labels, counts))\n",
    "    \n",
    "    # Map numeric labels to names if a mapping is provided\n",
    "    if label_names is not None:\n",
    "        x_labels = [label_names.get(label, label) for label in unique_labels]\n",
    "    else:\n",
    "        x_labels = unique_labels\n",
    "\n",
    "    # Visualize the label distribution using a bar chart\n",
    "    plt.figure(figsize=(6, 4))\n",
    "    plt.bar(x_labels, counts, color='skyblue')\n",
    "    plt.xlabel('Labels')\n",
    "    plt.ylabel('Frequency')\n",
    "    plt.title('Data Distribution')\n",
    "    plt.show()\n",
    "    \n",
    "    return distribution\n",
    "\n",
    "\n",
    "def visualize_random_images(data, num_images):\n",
    "    \"\"\"\n",
    "    Visualizes random images from the data\n",
    "    \"\"\"\n",
    "    samples = random.sample(data, num_images)\n",
    "    # Set up the figure\n",
    "    plt.figure(figsize=(6, 4))\n",
    "    \n",
    "    # Loop over the selected samples\n",
    "    for i, (img, label) in enumerate(samples):\n",
    "        plt.subplot(1, num_images, i+1)\n",
    "        \n",
    "        # If the image is a tensor, convert it to a numpy array for plotting.\n",
    "        if torch.is_tensor(img):\n",
    "            # Convert from (C, H, W) to (H, W, C)\n",
    "            img = img.permute(1, 2, 0).numpy()\n",
    "            \n",
    "        plt.imshow(img)\n",
    "        plt.title(f\"Label: {label}\")\n",
    "        plt.axis('off')\n",
    "    \n",
    "    plt.tight_layout()\n",
    "    plt.show()\n"
   ]
  },
  {
   "cell_type": "code",
   "execution_count": 6,
   "metadata": {},
   "outputs": [
    {
     "data": {
      "image/png": "[encoded data removed]",
      "text/plain": [
       "<Figure size 600x400 with 1 Axes>"
      ]
     },
     "metadata": {},
     "output_type": "display_data"
    },
    {
     "name": "stdout",
     "output_type": "stream",
     "text": [
      "{0: 4529, 1: 4488}\n"
     ]
    },
    {
     "data": {
      "image/png": "[encoded data removed]",
      "text/plain": [
       "<Figure size 600x400 with 5 Axes>"
      ]
     },
     "metadata": {},
     "output_type": "display_data"
    }
   ],
   "source": [
    "print(data_distribution(data_train, {0: 'cat', 1: 'car'}))\n",
    "visualize_random_images(data_train, num_images=5)\n"
   ]
  },
  {
   "cell_type": "markdown",
   "metadata": {},
   "source": [
    "Write a MyMLP class that implements a MLP in PyTorch (so only fully\n",
    "connected layers) such that:\n",
    "    \n",
    "    - The input dimension is 768(= 16 ∗ 16 ∗ 3) and the output dimension is 2 (for the 2 classes).\n",
    "    - The hidden layers have respectively 128 and 32 hidden units.\n",
    "    - All activation functions are ReLU. The last layer has no activation function since the cross-entropy loss already includes a softmax activation\n",
    "function."
   ]
  },
  {
   "cell_type": "markdown",
   "metadata": {},
   "source": [
    "### MyMLP Class"
   ]
  },
  {
   "cell_type": "code",
   "execution_count": 7,
   "metadata": {},
   "outputs": [],
   "source": [
    "class MyNet(nn.Module):\n",
    "    def __init__(self, *args, **kwargs):\n",
    "        super().__init__(*args, **kwargs)\n",
    "\n",
    "        self.flatten = nn.Flatten()\n",
    "        self.layers = nn.Sequential(\n",
    "            nn.Linear(16*16*3, 128),\n",
    "            nn.ReLU(),\n",
    "            nn.Linear(128, 32),\n",
    "            nn.ReLU(),\n",
    "            nn.Linear(32, 2)\n",
    "        )\n",
    "\n",
    "    def forward(self, x):\n",
    "        x = self.flatten(x)\n",
    "        x = self.layers(x)\n",
    "        return x"
   ]
  },
  {
   "cell_type": "markdown",
   "metadata": {},
   "source": [
    "Write a train(n_epochs, optimizer, model, loss_fn, train_loader) function that trains model for n_epochs epochs given an optimizer optimizer, a loss function loss_fn and a dataloader train_loader."
   ]
  },
  {
   "cell_type": "markdown",
   "metadata": {},
   "source": [
    "### train()"
   ]
  },
  {
   "cell_type": "code",
   "execution_count": 8,
   "metadata": {},
   "outputs": [],
   "source": [
    "def train(n_epochs, optimizer, model, loss_fn, train_loader):\n",
    "    \"\"\"\n",
    "    Trains a model for a given number of epochs using the optimizer, loss function and dataloader given\n",
    "    \"\"\"\n",
    "\n",
    "    n_batch = len(train_loader)\n",
    "    train_losses = []\n",
    "    # setting the model in train mode\n",
    "    model.train()\n",
    "    optimizer.zero_grad(set_to_none=True)\n",
    "\n",
    "    \n",
    "    for epoch in range(1, n_epochs + 1):\n",
    "        loss_train = 0.0\n",
    "        for imgs, labels in train_loader:\n",
    "            \n",
    "            imgs.to(device=device, dtype=torch.double) \n",
    "            labels = labels.to(device=device)\n",
    "\n",
    "            # pass the image through the model and getting an output\n",
    "            outputs = model(imgs)\n",
    "\n",
    "            # compute the loss\n",
    "            loss = loss_fn(outputs, labels)\n",
    "\n",
    "            # compute the gradients\n",
    "            loss.backward()\n",
    "\n",
    "            # update the parameters\n",
    "            optimizer.step()\n",
    "\n",
    "            # zero out all gradients\n",
    "            optimizer.zero_grad()\n",
    "\n",
    "            loss_train += loss.item()\n",
    "\n",
    "        # compute the average loss for each epoch\n",
    "        train_losses.append(loss_train / n_batch)\n",
    "\n",
    "        if epoch == 1 or epoch % 10 == 0:\n",
    "            print('{}  |  Epoch {}  |  Training loss {:.3f}'.format(\n",
    "                datetime.now().time(), epoch, loss_train / n_batch))\n",
    "    \n",
    "    return train_losses\n"
   ]
  },
  {
   "cell_type": "markdown",
   "metadata": {},
   "source": [
    "Write a similar function train manual_update that has no optimizer parameter, but a learning rate lr parameter instead and that manually updates each trainable parameter of model using equation (2). Do not forget to zero out all gradients after each iteration. \n",
    "\n",
    "Train 2 instances of MyMLP, one using train and the other using train_manual_update (use the same parameter values for both models). Compare their respective training losses. To get exactly the same results with both functions, see section 3.3"
   ]
  },
  {
   "cell_type": "markdown",
   "metadata": {},
   "source": [
    "### train_manual_update()"
   ]
  },
  {
   "cell_type": "code",
   "execution_count": 9,
   "metadata": {},
   "outputs": [],
   "source": [
    "def train_manual_update(n_epochs, model, loss_fn, train_loader, lr=1e-2, momentum_coeff=0., weight_decay=0.):\n",
    "    \"\"\"\n",
    "    Trains a model for a given number of epochs with the given loss function and dataloader. \\n\n",
    "    Manually updates each trainable parameter using the given learning rate, momentum and weight decay\n",
    "    \"\"\"\n",
    "    \n",
    "    n_batch = len(train_loader)\n",
    "    train_losses = []\n",
    "    # setting the model in train mode\n",
    "    model.train()\n",
    "    model.zero_grad()\n",
    "\n",
    "    # dict for storing velocity values when using momentum\n",
    "    v = dict()\n",
    "    \n",
    "    for epoch in range(1, n_epochs + 1):\n",
    "        loss_train = 0.0\n",
    "        for imgs, label in train_loader:\n",
    "            \n",
    "            # pass the image through the model and get an output\n",
    "            outputs = model(imgs)\n",
    "            # compute the loss and the gradients\n",
    "            loss = loss_fn(outputs, label)\n",
    "            loss.backward()\n",
    "\n",
    "            # update all parameters\n",
    "            with torch.no_grad():\n",
    "                for p in model.parameters():\n",
    "\n",
    "                    # the gradient value \n",
    "                    g_t = p.grad\n",
    "\n",
    "                    # with weight decay\n",
    "                    if weight_decay != 0:\n",
    "                        # update the gradient value using the weight decay\n",
    "                        g_t += weight_decay * p.data\n",
    "\n",
    "                    # with momentum\n",
    "                    if momentum_coeff != 0: \n",
    "                        # set initial velocity to gradient for each parameter\n",
    "                        if p not in v:\n",
    "                            v[p] = g_t \n",
    "                        else:\n",
    "                            # update the velocity using the momentum, the stored velocity and gradient\n",
    "                            v[p] = (momentum_coeff * v[p]) + g_t\n",
    "\n",
    "                        # update the gradient value\n",
    "                        g_t = v[p]\n",
    "\n",
    "                    # compute new parameter value\n",
    "                    p.data -=  lr * g_t\n",
    "\n",
    "                # zero out the gradients\n",
    "                model.zero_grad()\n",
    "\n",
    "                loss_train += loss.item()\n",
    "\n",
    "        # compute the average loss for each epoch\n",
    "        train_losses.append(loss_train / n_batch)\n",
    "\n",
    "        if epoch == 1 or epoch % 10 == 0:\n",
    "            print('{}  |  Epoch {}  |  Training loss {:.3f}'.format(\n",
    "                datetime.now().time(), epoch, loss_train / n_batch))\n",
    "            \n",
    "    return train_losses"
   ]
  },
  {
   "cell_type": "markdown",
   "metadata": {},
   "source": [
    "### Function for comparing training losses"
   ]
  },
  {
   "cell_type": "code",
   "execution_count": 10,
   "metadata": {},
   "outputs": [],
   "source": [
    "def compare_loss(train_losses, train_manual_losses):\n",
    "    \"\"\"\n",
    "    Compares two lists of losses and finds the max absolute difference\n",
    "    \"\"\"\n",
    "    max_diff = 0\n",
    "    for tl, tml in zip(train_losses, train_manual_losses):\n",
    "        # finding the absolute difference between train loss and manual loss\n",
    "        if abs(tl-tml) > max_diff:\n",
    "            max_diff = abs(tl-tml)\n",
    "\n",
    "    print(f\"Max absolute difference between training losses: {max_diff}\")"
   ]
  },
  {
   "cell_type": "markdown",
   "metadata": {},
   "source": [
    "### Function for comparing train() and train_manual_update()"
   ]
  },
  {
   "cell_type": "code",
   "execution_count": 11,
   "metadata": {},
   "outputs": [],
   "source": [
    "def compare_train_and_manual(train, train_man, added_text=\"\", weight_decay=0., momentum=0.):\n",
    "    \"\"\"\n",
    "    Trains models on two different training functions and compares the accuracy and loss with the given weight decay and momentum\n",
    "    \"\"\"\n",
    "    torch.manual_seed(42)\n",
    "    model = MyNet()\n",
    "\n",
    "    # creating an optimizer with the given hyperparameters\n",
    "    optimizer = optim.SGD(model.parameters(), lr=1e-2, weight_decay = weight_decay, momentum = momentum)\n",
    "\n",
    "    # Training an instance of MyMLP using train (SGD optimizer)\n",
    "    print(f\"Training using SGD optimizer {added_text}:\\n\")\n",
    "    train_losses = train(\n",
    "        n_epochs = 30,\n",
    "        optimizer= optimizer, \n",
    "        model = model, \n",
    "        loss_fn = loss_fn, \n",
    "        train_loader = train_loader\n",
    "    )\n",
    "\n",
    "    # calculating training and validation accuracy\n",
    "    a_t = compute_accuracy(model, train_loader)\n",
    "    a_v = compute_accuracy(model, val_loader)\n",
    "    print(f\"\\nTraining accuracy: {a_t}\")\n",
    "    print(f\"Validation accuracy: {a_v}\")\n",
    "\n",
    "    print(\"-\"*50)\n",
    "\n",
    "    torch.manual_seed(42)\n",
    "    model = MyNet()\n",
    "\n",
    "    # training an instance of MyMLP using train_manual_update with the given hyperparameters\n",
    "    print(f\"Training using manual update {added_text}:\\n\")\n",
    "    train_manual_losses = train_man(\n",
    "        n_epochs = 30,\n",
    "        model = model, \n",
    "        loss_fn = loss_fn, \n",
    "        train_loader = train_loader,\n",
    "        weight_decay = weight_decay,\n",
    "        momentum_coeff = momentum\n",
    "    )\n",
    "\n",
    "    # calculating training and validation accuracy\n",
    "    a_t = compute_accuracy(model, train_loader)\n",
    "    a_v = compute_accuracy(model, val_loader)\n",
    "    print(f\"\\nTraining accuracy: {a_t}\")\n",
    "    print(f\"Validation accuracy: {a_v}\")\n",
    "\n",
    "    print(\"-\"*50)\n",
    "\n",
    "    # comparing the loss between the two methods\n",
    "    compare_loss(train_losses, train_manual_losses)"
   ]
  },
  {
   "cell_type": "markdown",
   "metadata": {},
   "source": [
    "### (5) Training two models using train and train_manual_update and comparing"
   ]
  },
  {
   "cell_type": "code",
   "execution_count": 12,
   "metadata": {},
   "outputs": [
    {
     "name": "stdout",
     "output_type": "stream",
     "text": [
      "Training using SGD optimizer :\n",
      "\n",
      "10:33:58.759371  |  Epoch 1  |  Training loss 0.683\n",
      "10:33:59.361653  |  Epoch 10  |  Training loss 0.445\n",
      "10:34:00.020270  |  Epoch 20  |  Training loss 0.349\n",
      "10:34:00.684949  |  Epoch 30  |  Training loss 0.285\n",
      "\n",
      "Training accuracy: 87.63446822668294\n",
      "Validation accuracy: 85.96134282807732\n",
      "--------------------------------------------------\n",
      "Training using manual update :\n",
      "\n",
      "10:34:00.796368  |  Epoch 1  |  Training loss 0.683\n",
      "10:34:01.455880  |  Epoch 10  |  Training loss 0.445\n",
      "10:34:02.174104  |  Epoch 20  |  Training loss 0.349\n",
      "10:34:02.949643  |  Epoch 30  |  Training loss 0.285\n",
      "\n",
      "Training accuracy: 87.63446822668294\n",
      "Validation accuracy: 85.96134282807732\n",
      "--------------------------------------------------\n",
      "Max absolute difference between training losses: 2.220446049250313e-16\n"
     ]
    }
   ],
   "source": [
    "compare_train_and_manual(train, train_manual_update)"
   ]
  },
  {
   "cell_type": "markdown",
   "metadata": {},
   "source": [
    "### (6) Training two models using train and train_manual_update with L2 regularization and comparing"
   ]
  },
  {
   "cell_type": "code",
   "execution_count": 13,
   "metadata": {},
   "outputs": [
    {
     "name": "stdout",
     "output_type": "stream",
     "text": [
      "Training using SGD optimizer with weight decay:\n",
      "\n",
      "10:34:03.077861  |  Epoch 1  |  Training loss 0.683\n",
      "10:34:03.751507  |  Epoch 10  |  Training loss 0.446\n",
      "10:34:04.478812  |  Epoch 20  |  Training loss 0.351\n",
      "10:34:05.244430  |  Epoch 30  |  Training loss 0.288\n",
      "\n",
      "Training accuracy: 87.54574692247976\n",
      "Validation accuracy: 86.46998982706002\n",
      "--------------------------------------------------\n",
      "Training using manual update with weight decay:\n",
      "\n",
      "10:34:05.349426  |  Epoch 1  |  Training loss 0.683\n",
      "10:34:06.062080  |  Epoch 10  |  Training loss 0.446\n",
      "10:34:06.860805  |  Epoch 20  |  Training loss 0.351\n",
      "10:34:07.655223  |  Epoch 30  |  Training loss 0.288\n",
      "\n",
      "Training accuracy: 87.54574692247976\n",
      "Validation accuracy: 86.46998982706002\n",
      "--------------------------------------------------\n",
      "Max absolute difference between training losses: 1.1102230246251565e-16\n"
     ]
    }
   ],
   "source": [
    "compare_train_and_manual(train, train_manual_update, \"with weight decay\", weight_decay=0.001)"
   ]
  },
  {
   "cell_type": "markdown",
   "metadata": {},
   "source": [
    "### (7) Training two models using train and train_manual_update with momentum and comparing"
   ]
  },
  {
   "cell_type": "code",
   "execution_count": 14,
   "metadata": {},
   "outputs": [
    {
     "name": "stdout",
     "output_type": "stream",
     "text": [
      "Training using SGD optimizer with momentum:\n",
      "\n",
      "10:34:07.779542  |  Epoch 1  |  Training loss 0.573\n",
      "10:34:08.669606  |  Epoch 10  |  Training loss 0.273\n",
      "10:34:09.483926  |  Epoch 20  |  Training loss 0.212\n",
      "10:34:10.213954  |  Epoch 30  |  Training loss 0.174\n",
      "\n",
      "Training accuracy: 92.96883664189863\n",
      "Validation accuracy: 89.11495422177009\n",
      "--------------------------------------------------\n",
      "Training using manual update with momentum:\n",
      "\n",
      "10:34:10.321983  |  Epoch 1  |  Training loss 0.573\n",
      "10:34:11.084675  |  Epoch 10  |  Training loss 0.273\n",
      "10:34:12.013497  |  Epoch 20  |  Training loss 0.212\n",
      "10:34:12.919148  |  Epoch 30  |  Training loss 0.174\n",
      "\n",
      "Training accuracy: 92.96883664189863\n",
      "Validation accuracy: 89.11495422177009\n",
      "--------------------------------------------------\n",
      "Max absolute difference between training losses: 3.3306690738754696e-16\n"
     ]
    }
   ],
   "source": [
    "compare_train_and_manual(train, train_manual_update, \"with momentum\", momentum=0.9)"
   ]
  },
  {
   "cell_type": "markdown",
   "metadata": {},
   "source": [
    "### (8-9) Testing different hyperparameter values and selecting the best model"
   ]
  },
  {
   "cell_type": "code",
   "execution_count": 15,
   "metadata": {},
   "outputs": [],
   "source": [
    "# create dataloaders using train and validation sets\n",
    "train_loader = torch.utils.data.DataLoader(data_train, batch_size=64, shuffle=True)\n",
    "val_loader = torch.utils.data.DataLoader(data_val, batch_size=64, shuffle=False)\n",
    "\n",
    "def hyperparameter_testing():\n",
    "    \"\"\"\n",
    "    Finding the best hyperparameters by training models on different combinations of hyperparameters \\n\n",
    "    Choosing the best model based on the validation accuracy\\n\n",
    "    Returning a dictionary with the best model with the chosen hyperparameters\n",
    "    \"\"\"\n",
    "\n",
    "    best_settings = {\"Model\": None,\n",
    "                     \"Accuracy\": 0,\n",
    "                     \"Momentum\": 0,\n",
    "                     \"Weight decay\": 0, \n",
    "                     \"Learning rate\": 0\n",
    "                    }\n",
    "\n",
    "    epochs = 35\n",
    "    momentum = [0, 0.85, 0.9]\n",
    "    w_decay = [0, 0.001, 0.01]\n",
    "    learning_rate = [0.001, 0.01]\n",
    "\n",
    "    print(\"\\nTrain manual update:\")\n",
    "\n",
    "    hyperparameter_values = list(itertools.product(learning_rate, momentum, w_decay))\n",
    "    for lr, m, wd in hyperparameter_values:\n",
    "\n",
    "        # create new model for each new combination of hyperparameters\n",
    "        torch.manual_seed(42)\n",
    "        model = MyNet().to(device=device)\n",
    "\n",
    "        print(f\"Momentum: {m} \\nWeight decay: {wd} \\nLearning rate: {lr}\")\n",
    "        # train model with the given hyperparameters\n",
    "        train_manual_update(\n",
    "            n_epochs = epochs,\n",
    "            model = model,  \n",
    "            loss_fn = loss_fn, \n",
    "            train_loader = train_loader,\n",
    "            lr = lr,\n",
    "            momentum_coeff=m,\n",
    "            weight_decay=wd \n",
    "        )\n",
    "        \n",
    "        # compute validation accuracy\n",
    "        a = compute_accuracy(model, val_loader)\n",
    "        print(f\"\\nValidation accuracy: {a}\")\n",
    "        print(\"-\"*50)\n",
    "\n",
    "        # choose best model according to accuracy (sett dette utfor så man trener først så velger beste modell)\n",
    "        if a > best_settings[\"Accuracy\"]:\n",
    "            best_settings[\"Model\"] = model\n",
    "            best_settings[\"Accuracy\"] = a\n",
    "            best_settings[\"Momentum\"] = m\n",
    "            best_settings[\"Weight decay\"] = wd\n",
    "            best_settings[\"Learning rate\"] = lr\n",
    "    \n",
    "    return best_settings"
   ]
  },
  {
   "cell_type": "code",
   "execution_count": 16,
   "metadata": {},
   "outputs": [
    {
     "name": "stdout",
     "output_type": "stream",
     "text": [
      "\n",
      "Train manual update:\n",
      "Momentum: 0 \n",
      "Weight decay: 0 \n",
      "Learning rate: 0.001\n",
      "10:34:13.077714  |  Epoch 1  |  Training loss 0.695\n",
      "10:34:13.802949  |  Epoch 10  |  Training loss 0.669\n",
      "10:34:14.663078  |  Epoch 20  |  Training loss 0.625\n",
      "10:34:15.512557  |  Epoch 30  |  Training loss 0.565\n",
      "\n",
      "Validation accuracy: 72.63479145473042\n",
      "--------------------------------------------------\n",
      "Momentum: 0 \n",
      "Weight decay: 0.001 \n",
      "Learning rate: 0.001\n",
      "10:34:16.015703  |  Epoch 1  |  Training loss 0.695\n",
      "10:34:16.839567  |  Epoch 10  |  Training loss 0.669\n",
      "10:34:17.898371  |  Epoch 20  |  Training loss 0.626\n",
      "10:34:18.734397  |  Epoch 30  |  Training loss 0.566\n",
      "\n",
      "Validation accuracy: 72.53306205493388\n",
      "--------------------------------------------------\n",
      "Momentum: 0 \n",
      "Weight decay: 0.01 \n",
      "Learning rate: 0.001\n",
      "10:34:19.259175  |  Epoch 1  |  Training loss 0.695\n",
      "10:34:20.014908  |  Epoch 10  |  Training loss 0.670\n",
      "10:34:20.862348  |  Epoch 20  |  Training loss 0.631\n",
      "10:34:21.683734  |  Epoch 30  |  Training loss 0.574\n",
      "\n",
      "Validation accuracy: 72.02441505595118\n",
      "--------------------------------------------------\n",
      "Momentum: 0.85 \n",
      "Weight decay: 0 \n",
      "Learning rate: 0.001\n",
      "10:34:22.169824  |  Epoch 1  |  Training loss 0.688\n",
      "10:34:22.969103  |  Epoch 10  |  Training loss 0.471\n",
      "10:34:23.864859  |  Epoch 20  |  Training loss 0.406\n",
      "10:34:24.744398  |  Epoch 30  |  Training loss 0.332\n",
      "\n",
      "Validation accuracy: 85.14750762970499\n",
      "--------------------------------------------------\n",
      "Momentum: 0.85 \n",
      "Weight decay: 0.001 \n",
      "Learning rate: 0.001\n",
      "10:34:25.330805  |  Epoch 1  |  Training loss 0.688\n",
      "10:34:26.199922  |  Epoch 10  |  Training loss 0.472\n",
      "10:34:27.177948  |  Epoch 20  |  Training loss 0.408\n",
      "10:34:28.171670  |  Epoch 30  |  Training loss 0.335\n",
      "\n",
      "Validation accuracy: 85.24923702950153\n",
      "--------------------------------------------------\n",
      "Momentum: 0.85 \n",
      "Weight decay: 0.01 \n",
      "Learning rate: 0.001\n",
      "10:34:28.741307  |  Epoch 1  |  Training loss 0.688\n",
      "10:34:29.579912  |  Epoch 10  |  Training loss 0.477\n",
      "10:34:30.602394  |  Epoch 20  |  Training loss 0.423\n",
      "10:34:31.568474  |  Epoch 30  |  Training loss 0.363\n",
      "\n",
      "Validation accuracy: 84.02848423194304\n",
      "--------------------------------------------------\n",
      "Momentum: 0.9 \n",
      "Weight decay: 0 \n",
      "Learning rate: 0.001\n",
      "10:34:32.155905  |  Epoch 1  |  Training loss 0.685\n",
      "10:34:32.992355  |  Epoch 10  |  Training loss 0.443\n",
      "10:34:34.050544  |  Epoch 20  |  Training loss 0.340\n",
      "10:34:34.988018  |  Epoch 30  |  Training loss 0.268\n",
      "\n",
      "Validation accuracy: 88.09766022380468\n",
      "--------------------------------------------------\n",
      "Momentum: 0.9 \n",
      "Weight decay: 0.001 \n",
      "Learning rate: 0.001\n",
      "10:34:35.555947  |  Epoch 1  |  Training loss 0.685\n",
      "10:34:36.437029  |  Epoch 10  |  Training loss 0.444\n",
      "10:34:37.386314  |  Epoch 20  |  Training loss 0.342\n",
      "10:34:38.329164  |  Epoch 30  |  Training loss 0.271\n",
      "\n",
      "Validation accuracy: 88.09766022380468\n",
      "--------------------------------------------------\n",
      "Momentum: 0.9 \n",
      "Weight decay: 0.01 \n",
      "Learning rate: 0.001\n",
      "10:34:38.912443  |  Epoch 1  |  Training loss 0.685\n",
      "10:34:39.740595  |  Epoch 10  |  Training loss 0.452\n",
      "10:34:40.751397  |  Epoch 20  |  Training loss 0.369\n",
      "10:34:41.714083  |  Epoch 30  |  Training loss 0.297\n",
      "\n",
      "Validation accuracy: 86.87690742624619\n",
      "--------------------------------------------------\n",
      "Momentum: 0 \n",
      "Weight decay: 0 \n",
      "Learning rate: 0.01\n",
      "10:34:42.275602  |  Epoch 1  |  Training loss 0.683\n",
      "10:34:42.953470  |  Epoch 10  |  Training loss 0.444\n",
      "10:34:43.710927  |  Epoch 20  |  Training loss 0.349\n",
      "10:34:44.461181  |  Epoch 30  |  Training loss 0.286\n",
      "\n",
      "Validation accuracy: 88.19938962360122\n",
      "--------------------------------------------------\n",
      "Momentum: 0 \n",
      "Weight decay: 0.001 \n",
      "Learning rate: 0.01\n",
      "10:34:44.930784  |  Epoch 1  |  Training loss 0.683\n",
      "10:34:45.705985  |  Epoch 10  |  Training loss 0.445\n",
      "10:34:46.623417  |  Epoch 20  |  Training loss 0.352\n",
      "10:34:47.442101  |  Epoch 30  |  Training loss 0.288\n",
      "\n",
      "Validation accuracy: 87.99593082400814\n",
      "--------------------------------------------------\n",
      "Momentum: 0 \n",
      "Weight decay: 0.01 \n",
      "Learning rate: 0.01\n",
      "10:34:48.001559  |  Epoch 1  |  Training loss 0.683\n",
      "10:34:48.762705  |  Epoch 10  |  Training loss 0.452\n",
      "10:34:49.596135  |  Epoch 20  |  Training loss 0.376\n",
      "10:34:50.424926  |  Epoch 30  |  Training loss 0.312\n",
      "\n",
      "Validation accuracy: 87.18209562563581\n",
      "--------------------------------------------------\n",
      "Momentum: 0.85 \n",
      "Weight decay: 0 \n",
      "Learning rate: 0.01\n",
      "10:34:50.936223  |  Epoch 1  |  Training loss 0.600\n",
      "10:34:51.717931  |  Epoch 10  |  Training loss 0.275\n",
      "10:34:52.615577  |  Epoch 20  |  Training loss 0.208\n",
      "10:34:53.498094  |  Epoch 30  |  Training loss 0.156\n",
      "\n",
      "Validation accuracy: 91.45473041709053\n",
      "--------------------------------------------------\n",
      "Momentum: 0.85 \n",
      "Weight decay: 0.001 \n",
      "Learning rate: 0.01\n",
      "10:34:54.062219  |  Epoch 1  |  Training loss 0.600\n",
      "10:34:54.949588  |  Epoch 10  |  Training loss 0.279\n",
      "10:34:55.874390  |  Epoch 20  |  Training loss 0.214\n",
      "10:34:56.879963  |  Epoch 30  |  Training loss 0.184\n",
      "\n",
      "Validation accuracy: 91.8616480162767\n",
      "--------------------------------------------------\n",
      "Momentum: 0.85 \n",
      "Weight decay: 0.01 \n",
      "Learning rate: 0.01\n",
      "10:34:57.450083  |  Epoch 1  |  Training loss 0.604\n",
      "10:34:58.351262  |  Epoch 10  |  Training loss 0.304\n",
      "10:34:59.328034  |  Epoch 20  |  Training loss 0.263\n",
      "10:35:00.379845  |  Epoch 30  |  Training loss 0.256\n",
      "\n",
      "Validation accuracy: 89.72533062054934\n",
      "--------------------------------------------------\n",
      "Momentum: 0.9 \n",
      "Weight decay: 0 \n",
      "Learning rate: 0.01\n",
      "10:35:01.161329  |  Epoch 1  |  Training loss 0.587\n",
      "10:35:02.292767  |  Epoch 10  |  Training loss 0.283\n",
      "10:35:03.316148  |  Epoch 20  |  Training loss 0.204\n",
      "10:35:04.274623  |  Epoch 30  |  Training loss 0.167\n",
      "\n",
      "Validation accuracy: 90.64089521871821\n",
      "--------------------------------------------------\n",
      "Momentum: 0.9 \n",
      "Weight decay: 0.001 \n",
      "Learning rate: 0.01\n",
      "10:35:04.805600  |  Epoch 1  |  Training loss 0.587\n",
      "10:35:05.702823  |  Epoch 10  |  Training loss 0.288\n",
      "10:35:06.628235  |  Epoch 20  |  Training loss 0.222\n",
      "10:35:07.590534  |  Epoch 30  |  Training loss 0.178\n",
      "\n",
      "Validation accuracy: 91.25127161749745\n",
      "--------------------------------------------------\n",
      "Momentum: 0.9 \n",
      "Weight decay: 0.01 \n",
      "Learning rate: 0.01\n",
      "10:35:08.239297  |  Epoch 1  |  Training loss 0.590\n",
      "10:35:09.160663  |  Epoch 10  |  Training loss 0.311\n",
      "10:35:10.193190  |  Epoch 20  |  Training loss 0.279\n",
      "10:35:11.151725  |  Epoch 30  |  Training loss 0.295\n",
      "\n",
      "Validation accuracy: 87.69074262461851\n",
      "--------------------------------------------------\n"
     ]
    }
   ],
   "source": [
    "best_settings = hyperparameter_testing()"
   ]
  },
  {
   "cell_type": "markdown",
   "metadata": {},
   "source": [
    "### Values for the best model"
   ]
  },
  {
   "cell_type": "code",
   "execution_count": 17,
   "metadata": {},
   "outputs": [
    {
     "name": "stdout",
     "output_type": "stream",
     "text": [
      "Results after hyperparameter testing and choosing best model:\n",
      "\n",
      "Highest validation accuracy: 91.8616480162767 \n",
      "Momentum: 0.85 \n",
      "Weight decay: 0.001 \n",
      "Learning rate: 0.01\n"
     ]
    }
   ],
   "source": [
    "best_model = best_settings[\"Model\"]\n",
    "accuracy = best_settings[\"Accuracy\"]\n",
    "momentum = best_settings[\"Momentum\"]\n",
    "weight_decay = best_settings[\"Weight decay\"]\n",
    "learning_rate = best_settings[\"Learning rate\"]\n",
    "\n",
    "print(\"Results after hyperparameter testing and choosing best model:\\n\")\n",
    "print(f\"Highest validation accuracy: {accuracy} \\nMomentum: {momentum} \\nWeight decay: {weight_decay} \\nLearning rate: {learning_rate}\")"
   ]
  },
  {
   "cell_type": "markdown",
   "metadata": {},
   "source": [
    "### Evaluating the model"
   ]
  },
  {
   "cell_type": "code",
   "execution_count": 18,
   "metadata": {},
   "outputs": [
    {
     "name": "stdout",
     "output_type": "stream",
     "text": [
      "Evaluation of the model with learning rate: 0.01, Momentum: 0.85, Weight decay: 0.001 \n",
      "Test Accuracy: 91.45\n"
     ]
    }
   ],
   "source": [
    "test_accuracy = compute_accuracy(best_model, test_loader)\n",
    "print(f\"Evaluation of the model with learning rate: {learning_rate}, Momentum: {momentum}, Weight decay: {weight_decay} \\nTest Accuracy: {test_accuracy}\")"
   ]
  }
 ],
 "metadata": {
  "kernelspec": {
   "display_name": "INF265",
   "language": "python",
   "name": "python3"
  },
  "language_info": {
   "codemirror_mode": {
    "name": "ipython",
    "version": 3
   },
   "file_extension": ".py",
   "mimetype": "text/x-python",
   "name": "python",
   "nbconvert_exporter": "python",
   "pygments_lexer": "ipython3",
   "version": "3.12.8"
  }
 },
 "nbformat": 4,
 "nbformat_minor": 2
}
