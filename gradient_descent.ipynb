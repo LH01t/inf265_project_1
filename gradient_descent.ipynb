{
 "cells": [
  {
   "cell_type": "code",
   "execution_count": 1,
   "metadata": {},
   "outputs": [],
   "source": [
    "import torch\n",
    "from torch import nn, optim\n",
    "import torch.nn.functional as F\n",
    "from torchvision import datasets, transforms\n",
    "from torch.utils.data import random_split\n",
    "from datetime import datetime\n",
    "import numpy as np\n",
    "import itertools\n",
    "import matplotlib.pyplot as plt\n",
    "import random"
   ]
  },
  {
   "cell_type": "markdown",
   "metadata": {},
   "source": [
    "# Getting the same results with train and train_manual_update\n",
    "- Write torch.manual_seed(42) at the beginning of your notebook.\n",
    "- Write torch.set_default_dtype(torch.double) at the beginning of your notebook to alleviate precision errors"
   ]
  },
  {
   "cell_type": "code",
   "execution_count": 2,
   "metadata": {},
   "outputs": [],
   "source": [
    "torch.manual_seed(42)\n",
    "torch.set_default_dtype(torch.double)\n",
    "\n",
    "device = (torch.device('cuda') if torch.cuda.is_available()\n",
    "          else torch.device('cpu'))"
   ]
  },
  {
   "cell_type": "markdown",
   "metadata": {},
   "source": [
    "# Tasks\n",
    "Load, analyse and preprocess the CIFAR-10 dataset. Split it into 3\n",
    "datasets: training, validation and test. Take a subset of these datasets\n",
    "by keeping only 2 labels: cat and car"
   ]
  },
  {
   "cell_type": "code",
   "execution_count": 3,
   "metadata": {},
   "outputs": [],
   "source": [
    "def load_cifar(train_val_split=0.9, data_path='../data/', preprocessor=None):\n",
    "\n",
    "    # transformer to resize images to 16x16 pixels\n",
    "    if preprocessor is None:\n",
    "        preprocessor = transforms.Compose([\n",
    "            transforms.Resize(16),\n",
    "            transforms.ToTensor()\n",
    "            ])\n",
    "    \n",
    "    # load datasets\n",
    "    train_val_data = datasets.CIFAR10(data_path, train=True, download=True, transform=preprocessor)\n",
    "    test_data = datasets.CIFAR10(data_path, train=False, download=True, transform=preprocessor)\n",
    "    \n",
    "    # sizes of train and validation data\n",
    "    train_size = int(train_val_split * len(train_val_data))\n",
    "    val_size = len(train_val_data) - train_size\n",
    "\n",
    "    # split train_val_data into train and validation sets\n",
    "    train_data, val_data = random_split(train_val_data, [train_size, val_size])\n",
    "\n",
    "    # create subsets with only cat (0) and car (1)\n",
    "    label_map = {3: 0, 1: 1} \n",
    "\n",
    "    train = [(img, label_map[label]) for img, label in train_data if label in [1,3]]\n",
    "    val = [(img, label_map[label]) for img, label in val_data if label in [1,3]]\n",
    "    test = [(img, label_map[label]) for img, label in test_data if label in [1,3]]\n",
    "\n",
    "    return train, val, test\n",
    "\n",
    "\n",
    "def compute_accuracy(model, loader):\n",
    "    # set the model to evaluation mode\n",
    "    model.eval()\n",
    "    correct = 0\n",
    "    total = 0\n",
    "\n",
    "    # disable gradient tracking\n",
    "    with torch.no_grad():\n",
    "        for images, labels in loader:\n",
    "            # forward pass\n",
    "            outputs = model(images)\n",
    "            predicted = torch.argmax(outputs, dim=1)\n",
    "            total += labels.size(0)\n",
    "            # compare predicted with labels\n",
    "            correct += torch.eq(predicted, labels).sum().item()\n",
    "\n",
    "    # calculate accuracy\n",
    "    accuracy = correct / total * 100.0\n",
    "    return accuracy\n"
   ]
  },
  {
   "cell_type": "markdown",
   "metadata": {},
   "source": [
    "## Data analysis"
   ]
  },
  {
   "cell_type": "markdown",
   "metadata": {},
   "source": [
    "### Load dataset, create loss function and dataloaders"
   ]
  },
  {
   "cell_type": "code",
   "execution_count": 4,
   "metadata": {},
   "outputs": [
    {
     "name": "stdout",
     "output_type": "stream",
     "text": [
      "Files already downloaded and verified\n",
      "Files already downloaded and verified\n"
     ]
    }
   ],
   "source": [
    "# load datasets\n",
    "data_train, data_val, data_test = load_cifar()\n",
    "\n",
    "# loss function\n",
    "loss_fn = nn.CrossEntropyLoss()\n",
    "\n",
    "# create dataloaders using train, val and test sets\n",
    "train_loader = torch.utils.data.DataLoader(data_train, batch_size=64, shuffle=False)\n",
    "val_loader = torch.utils.data.DataLoader(data_val, batch_size=64, shuffle=False)\n",
    "test_loader = torch.utils.data.DataLoader(data_test, batch_size=64, shuffle=False)\n"
   ]
  },
  {
   "cell_type": "markdown",
   "metadata": {},
   "source": [
    "### Visualize images and distribution of the training data"
   ]
  },
  {
   "cell_type": "code",
   "execution_count": 5,
   "metadata": {},
   "outputs": [],
   "source": [
    "def data_distribution(data, label_names=None):\n",
    "    # Extract labels from the dataset\n",
    "    labels = [label for _, label in data]\n",
    "    \n",
    "    # Calculate distribution using numpy\n",
    "    unique_labels, counts = np.unique(labels, return_counts=True)\n",
    "    distribution = dict(zip(unique_labels, counts))\n",
    "    \n",
    "    # Map numeric labels to names if a mapping is provided\n",
    "    if label_names is not None:\n",
    "        x_labels = [label_names.get(label, label) for label in unique_labels]\n",
    "    else:\n",
    "        x_labels = unique_labels\n",
    "\n",
    "    # Visualize the label distribution using a bar chart\n",
    "    plt.figure(figsize=(6, 4))\n",
    "    plt.bar(x_labels, counts, color='skyblue')\n",
    "    plt.xlabel('Labels')\n",
    "    plt.ylabel('Frequency')\n",
    "    plt.title('Data Distribution')\n",
    "    plt.show()\n",
    "    \n",
    "    return distribution\n",
    "\n",
    "\n",
    "def visualize_random_images(data, num_images):\n",
    "    samples = random.sample(data, num_images)\n",
    "    # Set up the figure\n",
    "    plt.figure(figsize=(6, 4))\n",
    "    \n",
    "    # Loop over the selected samples\n",
    "    for i, (img, label) in enumerate(samples):\n",
    "        plt.subplot(1, num_images, i+1)\n",
    "        \n",
    "        # If the image is a tensor, convert it to a numpy array for plotting.\n",
    "        if torch.is_tensor(img):\n",
    "            # Convert from (C, H, W) to (H, W, C)\n",
    "            img = img.permute(1, 2, 0).numpy()\n",
    "            \n",
    "        plt.imshow(img)\n",
    "        plt.title(f\"Label: {label}\")\n",
    "        plt.axis('off')\n",
    "    \n",
    "    plt.tight_layout()\n",
    "    plt.show()\n"
   ]
  },
  {
   "cell_type": "code",
   "execution_count": 6,
   "metadata": {},
   "outputs": [
    {
     "data": {
      "image/png": "[encoded data removed]",
      "text/plain": [
       "<Figure size 600x400 with 1 Axes>"
      ]
     },
     "metadata": {},
     "output_type": "display_data"
    },
    {
     "name": "stdout",
     "output_type": "stream",
     "text": [
      "{0: 4529, 1: 4488}\n"
     ]
    },
    {
     "data": {
      "image/png": "[encoded data removed]",
      "text/plain": [
       "<Figure size 600x400 with 5 Axes>"
      ]
     },
     "metadata": {},
     "output_type": "display_data"
    }
   ],
   "source": [
    "print(data_distribution(data_train, {0: 'cat', 1: 'car'}))\n",
    "visualize_random_images(data_train, num_images=5)\n"
   ]
  },
  {
   "cell_type": "markdown",
   "metadata": {},
   "source": [
    "Write a MyMLP class that implements a MLP in PyTorch (so only fully\n",
    "connected layers) such that:\n",
    "    \n",
    "    - The input dimension is 768(= 16 ∗ 16 ∗ 3) and the output dimension is 2 (for the 2 classes).\n",
    "    - The hidden layers have respectively 128 and 32 hidden units.\n",
    "    - All activation functions are ReLU. The last layer has no activation function since the cross-entropy loss already includes a softmax activation\n",
    "function."
   ]
  },
  {
   "cell_type": "markdown",
   "metadata": {},
   "source": [
    "### MyMLP Class"
   ]
  },
  {
   "cell_type": "code",
   "execution_count": 7,
   "metadata": {},
   "outputs": [],
   "source": [
    "class MyNet(nn.Module):\n",
    "    def __init__(self, *args, **kwargs):\n",
    "        super().__init__(*args, **kwargs)\n",
    "\n",
    "        self.flatten = nn.Flatten()\n",
    "        self.layers = nn.Sequential(\n",
    "            nn.Linear(16*16*3, 128),\n",
    "            nn.ReLU(),\n",
    "            nn.Linear(128, 32),\n",
    "            nn.ReLU(),\n",
    "            nn.Linear(32, 2)\n",
    "        )\n",
    "\n",
    "    def forward(self, x):\n",
    "        x = self.flatten(x)\n",
    "        x = self.layers(x)\n",
    "        return x"
   ]
  },
  {
   "cell_type": "markdown",
   "metadata": {},
   "source": [
    "Write a train(n_epochs, optimizer, model, loss_fn, train_loader) function that trains model for n_epochs epochs given an optimizer optimizer, a loss function loss_fn and a dataloader train_loader."
   ]
  },
  {
   "cell_type": "markdown",
   "metadata": {},
   "source": [
    "### train()"
   ]
  },
  {
   "cell_type": "code",
   "execution_count": 8,
   "metadata": {},
   "outputs": [],
   "source": [
    "def train(n_epochs, optimizer, model, loss_fn, train_loader):\n",
    "\n",
    "    n_batch = len(train_loader)\n",
    "    train_losses = []\n",
    "    model.train()\n",
    "    optimizer.zero_grad(set_to_none=True)\n",
    "\n",
    "    \n",
    "    for epoch in range(1, n_epochs + 1):\n",
    "        loss_train = 0.0\n",
    "        for imgs, labels in train_loader:\n",
    "            \n",
    "            imgs.to(device=device, dtype=torch.double) \n",
    "            labels = labels.to(device=device)\n",
    "\n",
    "            outputs = model(imgs)\n",
    "\n",
    "            # compute the loss\n",
    "            loss = loss_fn(outputs, labels)\n",
    "\n",
    "            # compute the gradients\n",
    "            loss.backward()\n",
    "\n",
    "            # update the parameters\n",
    "            optimizer.step()\n",
    "\n",
    "            # zero out all gradients\n",
    "            optimizer.zero_grad()\n",
    "\n",
    "            loss_train += loss.item()\n",
    "\n",
    "        train_losses.append(loss_train / n_batch)\n",
    "\n",
    "        if epoch == 1 or epoch % 10 == 0:\n",
    "            print('{}  |  Epoch {}  |  Training loss {:.3f}'.format(\n",
    "                datetime.now().time(), epoch, loss_train / n_batch))\n",
    "    \n",
    "    return train_losses\n"
   ]
  },
  {
   "cell_type": "markdown",
   "metadata": {},
   "source": [
    "Write a similar function train manual_update that has no optimizer parameter, but a learning rate lr parameter instead and that manually updates each trainable parameter of model using equation (2). Do not forget to zero out all gradients after each iteration. \n",
    "\n",
    "Train 2 instances of MyMLP, one using train and the other using train_manual_update (use the same parameter values for both models). Compare their respective training losses. To get exactly the same results with both functions, see section 3.3"
   ]
  },
  {
   "cell_type": "markdown",
   "metadata": {},
   "source": [
    "### train_manual_update()"
   ]
  },
  {
   "cell_type": "code",
   "execution_count": 9,
   "metadata": {},
   "outputs": [],
   "source": [
    "def train_manual_update(n_epochs, model, loss_fn, train_loader, lr=1e-2, momentum_coeff=0., weight_decay=0.):\n",
    "    \n",
    "    n_batch = len(train_loader)\n",
    "    train_losses = []\n",
    "    model.train()\n",
    "    model.zero_grad()\n",
    "\n",
    "    # dict for storing velocity values when using momentum\n",
    "    v = dict()\n",
    "    \n",
    "    for epoch in range(1, n_epochs + 1):\n",
    "        loss_train = 0.0\n",
    "        for imgs, label in train_loader:\n",
    "            \n",
    "            outputs = model(imgs)\n",
    "            loss = loss_fn(outputs, label)\n",
    "            loss.backward()\n",
    "\n",
    "            # update all parameters\n",
    "            with torch.no_grad():\n",
    "                for p in model.parameters():\n",
    "\n",
    "                    # the gradient value \n",
    "                    g_t = p.grad\n",
    "\n",
    "                    # with weight decay\n",
    "                    if weight_decay != 0:\n",
    "                        # update the gradient value using the weight decay\n",
    "                        g_t += weight_decay * p.data\n",
    "\n",
    "                    # with momentum\n",
    "                    if momentum_coeff != 0: \n",
    "                        # set initial velocity to gradient for each parameter\n",
    "                        if p not in v:\n",
    "                            v[p] = g_t \n",
    "                        else:\n",
    "                            # update the velocity using the momentum, the stored velocity and gradient\n",
    "                            v[p] = (momentum_coeff * v[p]) + g_t\n",
    "\n",
    "                        # update the gradient value\n",
    "                        g_t = v[p]\n",
    "\n",
    "                    # compute new parameter value\n",
    "                    p.data -=  lr * g_t\n",
    "\n",
    "                # zero out the gradients\n",
    "                model.zero_grad()\n",
    "\n",
    "                loss_train += loss.item()\n",
    "\n",
    "        train_losses.append(loss_train / n_batch)\n",
    "\n",
    "        if epoch == 1 or epoch % 10 == 0:\n",
    "            print('{}  |  Epoch {}  |  Training loss {:.3f}'.format(\n",
    "                datetime.now().time(), epoch, loss_train / n_batch))\n",
    "            \n",
    "    return train_losses"
   ]
  },
  {
   "cell_type": "markdown",
   "metadata": {},
   "source": [
    "### Function for comparing training losses"
   ]
  },
  {
   "cell_type": "code",
   "execution_count": 10,
   "metadata": {},
   "outputs": [],
   "source": [
    "def compare_loss(train_losses, train_manual_losses):\n",
    "    max_diff = 0\n",
    "    for tl, tml in zip(train_losses, train_manual_losses):\n",
    "        if abs(tl-tml) > max_diff:\n",
    "            max_diff = abs(tl-tml)\n",
    "\n",
    "    print(f\"Max absolute difference between training losses: {max_diff}\")"
   ]
  },
  {
   "cell_type": "markdown",
   "metadata": {},
   "source": [
    "### Function for comparing train() and train_manual_update()"
   ]
  },
  {
   "cell_type": "code",
   "execution_count": 11,
   "metadata": {},
   "outputs": [],
   "source": [
    "def compare_train_and_manual(train, train_man, added_text=\"\", weight_decay=0., momentum=0.):\n",
    "    torch.manual_seed(42)\n",
    "    model = MyNet()\n",
    "\n",
    "    # creating an optimizer with the given hyperparameters\n",
    "    optimizer = optim.SGD(model.parameters(), lr=1e-2, weight_decay = weight_decay, momentum = momentum)\n",
    "\n",
    "    # Training an instance of MyMLP using train (SGD optimizer)\n",
    "    print(f\"Training using SGD optimizer {added_text}:\\n\")\n",
    "    train_losses = train(\n",
    "        n_epochs = 30,\n",
    "        optimizer= optimizer, \n",
    "        model = model, \n",
    "        loss_fn = loss_fn, \n",
    "        train_loader = train_loader\n",
    "    )\n",
    "\n",
    "    # calculating training and validation accuracy\n",
    "    a_t = compute_accuracy(model, train_loader)\n",
    "    a_v = compute_accuracy(model, val_loader)\n",
    "    print(f\"\\nTraining accuracy: {a_t}\")\n",
    "    print(f\"Validation accuracy: {a_v}\")\n",
    "\n",
    "    print(\"-\"*50)\n",
    "\n",
    "    torch.manual_seed(42)\n",
    "    model = MyNet()\n",
    "\n",
    "    # training an instance of MyMLP using train_manual_update with the given hyperparameters\n",
    "    print(f\"Training using manual update {added_text}:\\n\")\n",
    "    train_manual_losses = train_man(\n",
    "        n_epochs = 30,\n",
    "        model = model, \n",
    "        loss_fn = loss_fn, \n",
    "        train_loader = train_loader,\n",
    "        weight_decay = weight_decay,\n",
    "        momentum_coeff = momentum\n",
    "    )\n",
    "\n",
    "    # calculating training and validation accuracy\n",
    "    a_t = compute_accuracy(model, train_loader)\n",
    "    a_v = compute_accuracy(model, val_loader)\n",
    "    print(f\"\\nTraining accuracy: {a_t}\")\n",
    "    print(f\"Validation accuracy: {a_v}\")\n",
    "\n",
    "    print(\"-\"*50)\n",
    "\n",
    "    # comparing the loss between the two methods\n",
    "    compare_loss(train_losses, train_manual_losses)"
   ]
  },
  {
   "cell_type": "markdown",
   "metadata": {},
   "source": [
    "### (5) Training two models using train and train_manual_update and comparing"
   ]
  },
  {
   "cell_type": "code",
   "execution_count": 12,
   "metadata": {},
   "outputs": [
    {
     "name": "stdout",
     "output_type": "stream",
     "text": [
      "Training using SGD optimizer :\n",
      "\n",
      "09:58:27.374939  |  Epoch 1  |  Training loss 0.683\n",
      "09:58:27.992576  |  Epoch 10  |  Training loss 0.445\n",
      "09:58:28.586323  |  Epoch 20  |  Training loss 0.349\n",
      "09:58:29.248479  |  Epoch 30  |  Training loss 0.285\n",
      "\n",
      "Training accuracy: 87.63446822668294\n",
      "Validation accuracy: 85.96134282807732\n",
      "--------------------------------------------------\n",
      "Training using manual update :\n",
      "\n",
      "09:58:29.348594  |  Epoch 1  |  Training loss 0.683\n",
      "09:58:29.918224  |  Epoch 10  |  Training loss 0.445\n",
      "09:58:30.569927  |  Epoch 20  |  Training loss 0.349\n",
      "09:58:31.229317  |  Epoch 30  |  Training loss 0.285\n",
      "\n",
      "Training accuracy: 87.63446822668294\n",
      "Validation accuracy: 85.96134282807732\n",
      "--------------------------------------------------\n",
      "Max absolute difference between training losses: 2.220446049250313e-16\n"
     ]
    }
   ],
   "source": [
    "compare_train_and_manual(train, train_manual_update)"
   ]
  },
  {
   "cell_type": "markdown",
   "metadata": {},
   "source": [
    "### (6) Training two models using train and train_manual_update with L2 regularization and comparing"
   ]
  },
  {
   "cell_type": "code",
   "execution_count": 13,
   "metadata": {},
   "outputs": [
    {
     "name": "stdout",
     "output_type": "stream",
     "text": [
      "Training using SGD optimizer with weight decay:\n",
      "\n",
      "09:58:31.337014  |  Epoch 1  |  Training loss 0.683\n",
      "09:58:31.953654  |  Epoch 10  |  Training loss 0.446\n",
      "09:58:32.631663  |  Epoch 20  |  Training loss 0.351\n",
      "09:58:33.312115  |  Epoch 30  |  Training loss 0.288\n",
      "\n",
      "Training accuracy: 87.54574692247976\n",
      "Validation accuracy: 86.46998982706002\n",
      "--------------------------------------------------\n",
      "Training using manual update with weight decay:\n",
      "\n",
      "09:58:33.411335  |  Epoch 1  |  Training loss 0.683\n",
      "09:58:34.061102  |  Epoch 10  |  Training loss 0.446\n",
      "09:58:34.760847  |  Epoch 20  |  Training loss 0.351\n",
      "09:58:35.439381  |  Epoch 30  |  Training loss 0.288\n",
      "\n",
      "Training accuracy: 87.54574692247976\n",
      "Validation accuracy: 86.46998982706002\n",
      "--------------------------------------------------\n",
      "Max absolute difference between training losses: 1.1102230246251565e-16\n"
     ]
    }
   ],
   "source": [
    "compare_train_and_manual(train, train_manual_update, \"with weight decay\", weight_decay=0.001)"
   ]
  },
  {
   "cell_type": "markdown",
   "metadata": {},
   "source": [
    "### (7) Training two models using train and train_manual_update with momentum and comparing"
   ]
  },
  {
   "cell_type": "code",
   "execution_count": 14,
   "metadata": {},
   "outputs": [
    {
     "name": "stdout",
     "output_type": "stream",
     "text": [
      "Training using SGD optimizer with momentum:\n",
      "\n",
      "09:58:35.610922  |  Epoch 1  |  Training loss 0.573\n",
      "09:58:36.219740  |  Epoch 10  |  Training loss 0.273\n",
      "09:58:36.882174  |  Epoch 20  |  Training loss 0.212\n",
      "09:58:37.523087  |  Epoch 30  |  Training loss 0.174\n",
      "\n",
      "Training accuracy: 92.96883664189863\n",
      "Validation accuracy: 89.11495422177009\n",
      "--------------------------------------------------\n",
      "Training using manual update with momentum:\n",
      "\n",
      "09:58:37.617567  |  Epoch 1  |  Training loss 0.573\n",
      "09:58:38.295854  |  Epoch 10  |  Training loss 0.273\n",
      "09:58:39.060877  |  Epoch 20  |  Training loss 0.212\n",
      "09:58:39.794866  |  Epoch 30  |  Training loss 0.174\n",
      "\n",
      "Training accuracy: 92.96883664189863\n",
      "Validation accuracy: 89.11495422177009\n",
      "--------------------------------------------------\n",
      "Max absolute difference between training losses: 3.3306690738754696e-16\n"
     ]
    }
   ],
   "source": [
    "compare_train_and_manual(train, train_manual_update, \"with momentum\", momentum=0.9)"
   ]
  },
  {
   "cell_type": "markdown",
   "metadata": {},
   "source": [
    "### (8-9) Testing different hyperparameter values and selecting the best model"
   ]
  },
  {
   "cell_type": "code",
   "execution_count": 15,
   "metadata": {},
   "outputs": [],
   "source": [
    "# create dataloaders using train and validation sets\n",
    "train_loader = torch.utils.data.DataLoader(data_train, batch_size=64, shuffle=True)\n",
    "val_loader = torch.utils.data.DataLoader(data_val, batch_size=64, shuffle=False)\n",
    "\n",
    "def hyperparameter_testing():\n",
    "    \"\"\"\n",
    "    Testing and finding the best hyperparameters\\n\n",
    "    Choosing the best model based on the validation accuracy\\n\n",
    "    Returning a dictionary with the best model with the chosen hyperparameters\n",
    "    \"\"\"\n",
    "\n",
    "    best_settings = {\"Model\": None,\n",
    "                     \"Accuracy\": 0,\n",
    "                     \"Momentum\": 0,\n",
    "                     \"Weight decay\": 0, \n",
    "                     \"Learning rate\": 0\n",
    "                    }\n",
    "\n",
    "    epochs = 30\n",
    "    momentum = [0, 0.85, 0.9]\n",
    "    w_decay = [0, 0.001, 0.01]\n",
    "    learning_rate = [0.001, 0.01]\n",
    "\n",
    "    print(\"\\nTrain manual update:\")\n",
    "\n",
    "    hyperparameter_values = list(itertools.product(learning_rate, momentum, w_decay))\n",
    "    for lr, m, wd in hyperparameter_values:\n",
    "\n",
    "        # create new model for each new combination of hyperparameters\n",
    "        torch.manual_seed(42)\n",
    "        model = MyNet().to(device=device)\n",
    "\n",
    "        print(f\"Momentum: {m} \\nWeight decay: {wd} \\nLearning rate: {lr}\")\n",
    "        # train model with the given hyperparameters\n",
    "        train_manual_update(\n",
    "            n_epochs = epochs,\n",
    "            model = model,  \n",
    "            loss_fn = loss_fn, \n",
    "            train_loader = train_loader,\n",
    "            lr = lr,\n",
    "            momentum_coeff=m,\n",
    "            weight_decay=wd \n",
    "        )\n",
    "        \n",
    "        # compute validation accuracy\n",
    "        a = compute_accuracy(model, val_loader)\n",
    "        print(f\"\\nValidation accuracy: {a}\")\n",
    "        print(\"-\"*50)\n",
    "\n",
    "        # choose best model according to accuracy (sett dette utfor så man trener først så velger beste modell)\n",
    "        if a > best_settings[\"Accuracy\"]:\n",
    "            best_settings[\"Model\"] = model\n",
    "            best_settings[\"Accuracy\"] = a\n",
    "            best_settings[\"Momentum\"] = m\n",
    "            best_settings[\"Weight decay\"] = wd\n",
    "            best_settings[\"Learning rate\"] = lr\n",
    "    \n",
    "    return best_settings"
   ]
  },
  {
   "cell_type": "code",
   "execution_count": 16,
   "metadata": {},
   "outputs": [
    {
     "name": "stdout",
     "output_type": "stream",
     "text": [
      "\n",
      "Train manual update:\n",
      "Momentum: 0 \n",
      "Weight decay: 0 \n",
      "Learning rate: 0.001\n",
      "09:58:39.917571  |  Epoch 1  |  Training loss 0.695\n",
      "09:58:40.656207  |  Epoch 10  |  Training loss 0.669\n",
      "09:58:41.334579  |  Epoch 20  |  Training loss 0.625\n",
      "09:58:42.004989  |  Epoch 30  |  Training loss 0.565\n",
      "\n",
      "Validation accuracy: 71.1088504577823\n",
      "--------------------------------------------------\n",
      "Momentum: 0 \n",
      "Weight decay: 0.001 \n",
      "Learning rate: 0.001\n",
      "09:58:42.080106  |  Epoch 1  |  Training loss 0.695\n",
      "09:58:42.739314  |  Epoch 10  |  Training loss 0.669\n",
      "09:58:43.512027  |  Epoch 20  |  Training loss 0.626\n",
      "09:58:44.268992  |  Epoch 30  |  Training loss 0.566\n",
      "\n",
      "Validation accuracy: 71.1088504577823\n",
      "--------------------------------------------------\n",
      "Momentum: 0 \n",
      "Weight decay: 0.01 \n",
      "Learning rate: 0.001\n",
      "09:58:44.343080  |  Epoch 1  |  Training loss 0.695\n",
      "09:58:45.004584  |  Epoch 10  |  Training loss 0.670\n",
      "09:58:45.724670  |  Epoch 20  |  Training loss 0.631\n",
      "09:58:46.555536  |  Epoch 30  |  Training loss 0.574\n",
      "\n",
      "Validation accuracy: 70.90539165818922\n",
      "--------------------------------------------------\n",
      "Momentum: 0.85 \n",
      "Weight decay: 0 \n",
      "Learning rate: 0.001\n",
      "09:58:46.652280  |  Epoch 1  |  Training loss 0.688\n",
      "09:58:47.567181  |  Epoch 10  |  Training loss 0.471\n",
      "09:58:48.493413  |  Epoch 20  |  Training loss 0.406\n",
      "09:58:49.381546  |  Epoch 30  |  Training loss 0.332\n",
      "\n",
      "Validation accuracy: 84.4354018311292\n",
      "--------------------------------------------------\n",
      "Momentum: 0.85 \n",
      "Weight decay: 0.001 \n",
      "Learning rate: 0.001\n",
      "09:58:49.477066  |  Epoch 1  |  Training loss 0.688\n",
      "09:58:50.290938  |  Epoch 10  |  Training loss 0.472\n",
      "09:58:51.202169  |  Epoch 20  |  Training loss 0.408\n",
      "09:58:52.102498  |  Epoch 30  |  Training loss 0.335\n",
      "\n",
      "Validation accuracy: 84.4354018311292\n",
      "--------------------------------------------------\n",
      "Momentum: 0.85 \n",
      "Weight decay: 0.01 \n",
      "Learning rate: 0.001\n",
      "09:58:52.198458  |  Epoch 1  |  Training loss 0.688\n",
      "09:58:53.009584  |  Epoch 10  |  Training loss 0.477\n",
      "09:58:53.900716  |  Epoch 20  |  Training loss 0.423\n",
      "09:58:54.800284  |  Epoch 30  |  Training loss 0.363\n",
      "\n",
      "Validation accuracy: 83.31637843336725\n",
      "--------------------------------------------------\n",
      "Momentum: 0.9 \n",
      "Weight decay: 0 \n",
      "Learning rate: 0.001\n",
      "09:58:54.889538  |  Epoch 1  |  Training loss 0.685\n",
      "09:58:55.616791  |  Epoch 10  |  Training loss 0.443\n",
      "09:58:56.425362  |  Epoch 20  |  Training loss 0.340\n",
      "09:58:57.223262  |  Epoch 30  |  Training loss 0.268\n",
      "\n",
      "Validation accuracy: 86.77517802644964\n",
      "--------------------------------------------------\n",
      "Momentum: 0.9 \n",
      "Weight decay: 0.001 \n",
      "Learning rate: 0.001\n",
      "09:58:57.314048  |  Epoch 1  |  Training loss 0.685\n",
      "09:58:58.174783  |  Epoch 10  |  Training loss 0.444\n",
      "09:58:59.046988  |  Epoch 20  |  Training loss 0.342\n",
      "09:59:00.025974  |  Epoch 30  |  Training loss 0.271\n",
      "\n",
      "Validation accuracy: 86.57171922685656\n",
      "--------------------------------------------------\n",
      "Momentum: 0.9 \n",
      "Weight decay: 0.01 \n",
      "Learning rate: 0.001\n",
      "09:59:00.123297  |  Epoch 1  |  Training loss 0.685\n",
      "09:59:00.884229  |  Epoch 10  |  Training loss 0.452\n",
      "09:59:01.749284  |  Epoch 20  |  Training loss 0.369\n",
      "09:59:02.668487  |  Epoch 30  |  Training loss 0.297\n",
      "\n",
      "Validation accuracy: 85.75788402848423\n",
      "--------------------------------------------------\n",
      "Momentum: 0 \n",
      "Weight decay: 0 \n",
      "Learning rate: 0.01\n",
      "09:59:02.743926  |  Epoch 1  |  Training loss 0.683\n",
      "09:59:03.374258  |  Epoch 10  |  Training loss 0.444\n",
      "09:59:04.054444  |  Epoch 20  |  Training loss 0.349\n",
      "09:59:04.740569  |  Epoch 30  |  Training loss 0.286\n",
      "\n",
      "Validation accuracy: 87.48728382502543\n",
      "--------------------------------------------------\n",
      "Momentum: 0 \n",
      "Weight decay: 0.001 \n",
      "Learning rate: 0.01\n",
      "09:59:04.863802  |  Epoch 1  |  Training loss 0.683\n",
      "09:59:05.750996  |  Epoch 10  |  Training loss 0.445\n",
      "09:59:06.743409  |  Epoch 20  |  Training loss 0.352\n",
      "09:59:07.625392  |  Epoch 30  |  Training loss 0.288\n",
      "\n",
      "Validation accuracy: 87.38555442522889\n",
      "--------------------------------------------------\n",
      "Momentum: 0 \n",
      "Weight decay: 0.01 \n",
      "Learning rate: 0.01\n",
      "09:59:07.716851  |  Epoch 1  |  Training loss 0.683\n",
      "09:59:08.470739  |  Epoch 10  |  Training loss 0.452\n",
      "09:59:09.315221  |  Epoch 20  |  Training loss 0.376\n",
      "09:59:10.199306  |  Epoch 30  |  Training loss 0.312\n",
      "\n",
      "Validation accuracy: 85.96134282807732\n",
      "--------------------------------------------------\n",
      "Momentum: 0.85 \n",
      "Weight decay: 0 \n",
      "Learning rate: 0.01\n",
      "09:59:10.306325  |  Epoch 1  |  Training loss 0.600\n",
      "09:59:11.154366  |  Epoch 10  |  Training loss 0.275\n",
      "09:59:12.083963  |  Epoch 20  |  Training loss 0.208\n",
      "09:59:12.997505  |  Epoch 30  |  Training loss 0.156\n",
      "\n",
      "Validation accuracy: 89.72533062054934\n",
      "--------------------------------------------------\n",
      "Momentum: 0.85 \n",
      "Weight decay: 0.001 \n",
      "Learning rate: 0.01\n",
      "09:59:13.100649  |  Epoch 1  |  Training loss 0.600\n",
      "09:59:13.967630  |  Epoch 10  |  Training loss 0.279\n",
      "09:59:14.943175  |  Epoch 20  |  Training loss 0.214\n",
      "09:59:15.961414  |  Epoch 30  |  Training loss 0.184\n",
      "\n",
      "Validation accuracy: 88.19938962360122\n",
      "--------------------------------------------------\n",
      "Momentum: 0.85 \n",
      "Weight decay: 0.01 \n",
      "Learning rate: 0.01\n",
      "09:59:16.067866  |  Epoch 1  |  Training loss 0.604\n",
      "09:59:16.959428  |  Epoch 10  |  Training loss 0.304\n",
      "09:59:17.979256  |  Epoch 20  |  Training loss 0.263\n",
      "09:59:18.993081  |  Epoch 30  |  Training loss 0.256\n",
      "\n",
      "Validation accuracy: 89.01322482197355\n",
      "--------------------------------------------------\n",
      "Momentum: 0.9 \n",
      "Weight decay: 0 \n",
      "Learning rate: 0.01\n",
      "09:59:19.081669  |  Epoch 1  |  Training loss 0.587\n",
      "09:59:19.910173  |  Epoch 10  |  Training loss 0.283\n",
      "09:59:21.191387  |  Epoch 20  |  Training loss 0.204\n",
      "09:59:22.311767  |  Epoch 30  |  Training loss 0.167\n",
      "\n",
      "Validation accuracy: 89.01322482197355\n",
      "--------------------------------------------------\n",
      "Momentum: 0.9 \n",
      "Weight decay: 0.001 \n",
      "Learning rate: 0.01\n",
      "09:59:22.444406  |  Epoch 1  |  Training loss 0.587\n",
      "09:59:23.504919  |  Epoch 10  |  Training loss 0.288\n",
      "09:59:24.755392  |  Epoch 20  |  Training loss 0.222\n",
      "09:59:26.059313  |  Epoch 30  |  Training loss 0.178\n",
      "\n",
      "Validation accuracy: 89.21668362156663\n",
      "--------------------------------------------------\n",
      "Momentum: 0.9 \n",
      "Weight decay: 0.01 \n",
      "Learning rate: 0.01\n",
      "09:59:26.171907  |  Epoch 1  |  Training loss 0.590\n",
      "09:59:27.270207  |  Epoch 10  |  Training loss 0.311\n",
      "09:59:28.434565  |  Epoch 20  |  Training loss 0.279\n",
      "09:59:29.708594  |  Epoch 30  |  Training loss 0.295\n",
      "\n",
      "Validation accuracy: 86.57171922685656\n",
      "--------------------------------------------------\n"
     ]
    }
   ],
   "source": [
    "best_settings = hyperparameter_testing()"
   ]
  },
  {
   "cell_type": "markdown",
   "metadata": {},
   "source": [
    "### Values for the best model"
   ]
  },
  {
   "cell_type": "code",
   "execution_count": 17,
   "metadata": {},
   "outputs": [
    {
     "name": "stdout",
     "output_type": "stream",
     "text": [
      "Results after hyperparameter testing and choosing best model:\n",
      "\n",
      "Highest validation accuracy: 89.72533062054934 \n",
      "Momentum: 0.85 \n",
      "Weight decay: 0 \n",
      "Learning rate: 0.01\n"
     ]
    }
   ],
   "source": [
    "best_model = best_settings[\"Model\"]\n",
    "accuracy = best_settings[\"Accuracy\"]\n",
    "momentum = best_settings[\"Momentum\"]\n",
    "weight_decay = best_settings[\"Weight decay\"]\n",
    "learning_rate = best_settings[\"Learning rate\"]\n",
    "\n",
    "print(\"Results after hyperparameter testing and choosing best model:\\n\")\n",
    "print(f\"Highest validation accuracy: {accuracy} \\nMomentum: {momentum} \\nWeight decay: {weight_decay} \\nLearning rate: {learning_rate}\")"
   ]
  },
  {
   "cell_type": "markdown",
   "metadata": {},
   "source": [
    "### Evaluating the model"
   ]
  },
  {
   "cell_type": "code",
   "execution_count": 18,
   "metadata": {},
   "outputs": [
    {
     "name": "stdout",
     "output_type": "stream",
     "text": [
      "Evaluation of the model with learning rate: 0.01, Momentum: 0.85, Weight decay: 0 \n",
      "Test Accuracy: 90.75\n"
     ]
    }
   ],
   "source": [
    "test_accuracy = compute_accuracy(best_model, test_loader)\n",
    "print(f\"Evaluation of the model with learning rate: {learning_rate}, Momentum: {momentum}, Weight decay: {weight_decay} \\nTest Accuracy: {test_accuracy}\")"
   ]
  }
 ],
 "metadata": {
  "kernelspec": {
   "display_name": "INF265",
   "language": "python",
   "name": "python3"
  },
  "language_info": {
   "codemirror_mode": {
    "name": "ipython",
    "version": 3
   },
   "file_extension": ".py",
   "mimetype": "text/x-python",
   "name": "python",
   "nbconvert_exporter": "python",
   "pygments_lexer": "ipython3",
   "version": "3.12.8"
  }
 },
 "nbformat": 4,
 "nbformat_minor": 2
}
